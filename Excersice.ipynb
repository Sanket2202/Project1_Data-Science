{
  "metadata": {
    "kernelspec": {
      "name": "xpython",
      "display_name": "Python 3.13 (XPython)",
      "language": "python"
    },
    "language_info": {
      "file_extension": ".py",
      "mimetype": "text/x-python",
      "name": "python",
      "version": "3.13.1"
    }
  },
  "nbformat_minor": 5,
  "nbformat": 4,
  "cells": [
    {
      "id": "13bc1f22-874c-4680-981d-c1b6e37e59f0",
      "cell_type": "markdown",
      "source": "# Data Science Tools and Ecosystem",
      "metadata": {}
    },
    {
      "id": "668d6cd0-d715-4aba-a15e-1149591b8baf",
      "cell_type": "markdown",
      "source": "In this notebook, we will explore some of the most commonly used tools, languages, and libraries in data science. \nWe’ll also perform simple arithmetic operations and summarize key objectives.\n",
      "metadata": {}
    },
    {
      "id": "34d8c394-a619-456b-af1b-010606a80f7f",
      "cell_type": "markdown",
      "source": "## Some of the popular languages that Data Scientists use are\n\n- Python  \n- R  \n- SQL \n- Julia  \n- Scala",
      "metadata": {}
    },
    {
      "id": "9ee7ae2e-0fd0-4c85-ac4f-a7a032a633f9",
      "cell_type": "markdown",
      "source": "## Some of the commonly used libraries used by Data Scientists include\n\n- Pandas  \n- NumPy  \n- Matplotlib  \n- Scikit-learn  \n- TensorFlow",
      "metadata": {}
    },
    {
      "id": "9bc0ae7f-bd29-41bb-9dbb-f0081609f657",
      "cell_type": "markdown",
      "source": "## Data Science Tools\n\n| Tool         | Category        |\n|--------------|-----------------|\n| Jupyter      | Notebook Tool   |\n| RStudio      | IDE             |\n| Apache Spark | Big Data Tool   |\n| TensorFlow   | ML Framework    |\n| GitHub       | Collaboration Tool |",
      "metadata": {}
    },
    {
      "id": "940e2851-32ee-442d-9a61-e74ba720ca9f",
      "cell_type": "markdown",
      "source": "### Below are a few examples of evaluating arithmetic expressions in Python.\n",
      "metadata": {}
    },
    {
      "id": "e9be1656-811e-4c74-82a8-1fda5ab132cf",
      "cell_type": "code",
      "source": "# This is a simple arithmetic expression to multiply then add integers\n(3 * 4) + 5\n",
      "metadata": {
        "trusted": true
      },
      "outputs": [],
      "execution_count": null
    },
    {
      "id": "7b8b5093-0471-4248-a7eb-1315ddafd650",
      "cell_type": "code",
      "source": "# This will convert 200 minutes to hours by dividing by 60\nminutes = 200\nhours = minutes / 60\nhours\n",
      "metadata": {
        "trusted": true
      },
      "outputs": [],
      "execution_count": null
    },
    {
      "id": "c5a8708e-b186-4240-bf62-6e9864609ec5",
      "cell_type": "markdown",
      "source": "## Objectives:\n\n- List popular languages for Data Science\n- List commonly used libraries and tools\n- Create tables in markdown\n- Perform basic arithmetic operations  \n- Share notebooks through GitHub",
      "metadata": {}
    },
    {
      "id": "a6971f82-67fd-47d9-a355-8037df5d09be",
      "cell_type": "markdown",
      "source": "## Author\nSanket Solanki Tarunbhai\n",
      "metadata": {}
    }
  ]
}